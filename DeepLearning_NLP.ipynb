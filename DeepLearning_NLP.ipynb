{
  "nbformat": 4,
  "nbformat_minor": 0,
  "metadata": {
    "colab": {
      "name": "DeepLearning_NLP.ipynb",
      "provenance": [],
      "authorship_tag": "ABX9TyNcr18P7ED6G+mSW/SqFTNk",
      "include_colab_link": true
    },
    "kernelspec": {
      "name": "python3",
      "display_name": "Python 3"
    },
    "language_info": {
      "name": "python"
    }
  },
  "cells": [
    {
      "cell_type": "markdown",
      "metadata": {
        "id": "view-in-github",
        "colab_type": "text"
      },
      "source": [
        "<a href=\"https://colab.research.google.com/github/Mayukhmaity/DeepLearning_NLP/blob/main/DeepLearning_NLP.ipynb\" target=\"_parent\"><img src=\"https://colab.research.google.com/assets/colab-badge.svg\" alt=\"Open In Colab\"/></a>"
      ]
    },
    {
      "cell_type": "code",
      "metadata": {
        "id": "VJAXiQcOZY01"
      },
      "source": [
        "import tensorflow as tf\n",
        "from tensorflow import keras\n",
        "from tensorflow.keras.preprocessing.text import Tokenizer\n",
        "from tensorflow.keras.preprocessing.sequence import pad_sequences"
      ],
      "execution_count": 25,
      "outputs": []
    },
    {
      "cell_type": "code",
      "metadata": {
        "id": "wu9LFeAJabmH"
      },
      "source": [
        "train_sentences = ['It is a sunny day','It is a cloudy day', 'Will it rain today?','It is a super hot day']"
      ],
      "execution_count": 27,
      "outputs": []
    },
    {
      "cell_type": "code",
      "metadata": {
        "id": "WHfVPpYtausE"
      },
      "source": [
        "tokenizer = Tokenizer(num_words=100, oov_token='<oov>')\n",
        "\n",
        "tokenizer.fit_on_texts(train_sentences)\n",
        "\n",
        "word_index = tokenizer.word_index"
      ],
      "execution_count": 28,
      "outputs": []
    },
    {
      "cell_type": "code",
      "metadata": {
        "colab": {
          "base_uri": "https://localhost:8080/"
        },
        "id": "KcxsCGtMbBAR",
        "outputId": "747d7191-6b1d-4ace-bd63-1ecf8cf7c6b0"
      },
      "source": [
        "print(word_index)"
      ],
      "execution_count": 29,
      "outputs": [
        {
          "output_type": "stream",
          "name": "stdout",
          "text": [
            "{'<oov>': 1, 'it': 2, 'is': 3, 'a': 4, 'day': 5, 'sunny': 6, 'cloudy': 7, 'will': 8, 'rain': 9, 'today': 10, 'super': 11, 'hot': 12}\n"
          ]
        }
      ]
    },
    {
      "cell_type": "code",
      "metadata": {
        "colab": {
          "base_uri": "https://localhost:8080/"
        },
        "id": "GSQCJh_fbWUH",
        "outputId": "8cf4c378-627e-4979-c6ee-1a2bd8ad3ff8"
      },
      "source": [
        "sequences = tokenizer.texts_to_sequences(train_sentences)\n",
        "padded_seq = pad_sequences(sequences)\n",
        "print(padded_seq)"
      ],
      "execution_count": 32,
      "outputs": [
        {
          "output_type": "stream",
          "name": "stdout",
          "text": [
            "[[ 0  2  3  4  6  5]\n",
            " [ 0  2  3  4  7  5]\n",
            " [ 0  0  8  2  9 10]\n",
            " [ 2  3  4 11 12  5]]\n"
          ]
        }
      ]
    },
    {
      "cell_type": "code",
      "metadata": {
        "colab": {
          "base_uri": "https://localhost:8080/"
        },
        "id": "M_Vs0e3jcBI_",
        "outputId": "c2a637e9-7af0-43ae-e4e9-75af3febe7b3"
      },
      "source": [
        "print(\"Sequences Generated\",sequences)\n",
        "\n",
        "padded_seqs = pad_sequences(sequences, padding=\"post\",maxlen=5,truncating=\"post\")\n",
        "\n",
        "print(padded_seqs)"
      ],
      "execution_count": 34,
      "outputs": [
        {
          "output_type": "stream",
          "name": "stdout",
          "text": [
            "Sequences Generated [[2, 3, 4, 6, 5], [2, 3, 4, 7, 5], [8, 2, 9, 10], [2, 3, 4, 11, 12, 5]]\n",
            "[[ 2  3  4  6  5]\n",
            " [ 2  3  4  7  5]\n",
            " [ 8  2  9 10  0]\n",
            " [ 2  3  4 11 12]]\n"
          ]
        }
      ]
    },
    {
      "cell_type": "code",
      "metadata": {
        "id": "jo6SJYLwcLJ7"
      },
      "source": [
        "new_sentences = ['Will it be raining today','It is a pleasant day']"
      ],
      "execution_count": 19,
      "outputs": []
    },
    {
      "cell_type": "code",
      "metadata": {
        "id": "zxU7opo8cWPt"
      },
      "source": [
        "new_sequences = tokenizer.texts_to_sequences(new_sentences)"
      ],
      "execution_count": 20,
      "outputs": []
    },
    {
      "cell_type": "code",
      "metadata": {
        "colab": {
          "base_uri": "https://localhost:8080/"
        },
        "id": "U6x57YJXchKM",
        "outputId": "da7877e8-bbca-40e4-8bf9-0c93dc0d94f2"
      },
      "source": [
        "print(new_sentences)\n",
        "print(new_sequences)"
      ],
      "execution_count": 21,
      "outputs": [
        {
          "output_type": "stream",
          "name": "stdout",
          "text": [
            "['Will it be raining today', 'It is a pleasant day']\n",
            "[[7, 1, 9], [1, 2, 3, 4]]\n"
          ]
        }
      ]
    },
    {
      "cell_type": "code",
      "metadata": {
        "id": "LFpg6M-scl-i"
      },
      "source": [
        "tokenizer = Tokenizer(num_words=100, oov_token='<oov>')\n",
        "tokenizer.fit_on_texts(train_sentences)\n",
        "word_index = tokenizer.word_index"
      ],
      "execution_count": 22,
      "outputs": []
    },
    {
      "cell_type": "code",
      "metadata": {
        "colab": {
          "base_uri": "https://localhost:8080/"
        },
        "id": "S-YqVh8HdC6Z",
        "outputId": "461cabf4-b9fb-4e11-c214-c0f134ea1aa5"
      },
      "source": [
        "new_sequences = tokenizer.texts_to_sequences(new_sentences)\n",
        "print(word_index)\n",
        "print(new_sentences)\n",
        "print(new_sequences)"
      ],
      "execution_count": 24,
      "outputs": [
        {
          "output_type": "stream",
          "name": "stdout",
          "text": [
            "{'<oov>': 1, 'it': 2, 'is': 3, 'a': 4, 'day': 5, 'sunny': 6, 'cloudy': 7, 'will': 8, 'rain': 9, 'today': 10}\n",
            "['Will it be raining today', 'It is a pleasant day']\n",
            "[[8, 2, 1, 1, 10], [2, 3, 4, 1, 5]]\n"
          ]
        }
      ]
    },
    {
      "cell_type": "code",
      "metadata": {
        "id": "qj3HB7x9dQVF"
      },
      "source": [
        ""
      ],
      "execution_count": null,
      "outputs": []
    }
  ]
}